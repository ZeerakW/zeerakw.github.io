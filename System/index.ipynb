{
 "cells": [
  {
   "cell_type": "markdown",
   "metadata": {},
   "source": [
    "# Social Graphs and interactions Project B\n",
    "\n",
    "In this project we will investigate branches of mathematics through the wikipedia pages fo mathematicians associated with each branch. We will look to perform an analysis of their use of language, investigate the nature of the branches, and finally see if the information given on the wikipedia pages of singular mathematicians, can be used to determine which branch a given mathematician is primarily focused on."
   ]
  },
  {
   "cell_type": "markdown",
   "metadata": {},
   "source": [
    "## Network Analysis\n",
    "Given that inspiration is unidirectional in its nature, we have decided to create our network as a directed graph. Each mathematician is a node in the graph and each edge between the nodes constitutes a link from one node to another.\n",
    "\n",
    "### Basic info on our Graph\n",
    "After downloading and cleaning our data we find that there are 1154 unique node. And that there are 1452 unique edges between the node. We also find that that the mean degree for each node is 2.52 while the median degree is 1.\n",
    "Further it becomes clear that the node with the greatest degree has 66 edges while the most common degree is 0 which is shared by 496 nodes. \n",
    "\n",
    "### Mathematicians (by in degree and out degree)"
   ]
  },
  {
   "cell_type": "markdown",
   "metadata": {
    "collapsed": false
   },
   "source": [
    "### Top 10 by in and out degrees\n",
    "<img src=\"data/images/top_in_out.png\" width='50%'>"
   ]
  },
  {
   "cell_type": "markdown",
   "metadata": {},
   "source": [
    "### Distribution of in and out degree\n",
    "#### Linear bar plot\n",
    "<img src=\"data/images/in_out_log_linear.png\" width='70%'>\n",
    "\n",
    "#### Log-log scale bar plot\n",
    "<img src=\"data/images/in_out_log_log.png\">\n",
    "\n",
    "#### Log-loc scale scatter plot\n",
    "<img src=\"data/images/in v out degree.png\" width='70%'>\n",
    "\n",
    "### Notes on the graphs\n",
    "As expected we see a power law distribution of the degree of nodes with most nodes having a few or zero degrees and an increasingly small number of nodes that have a high degree.\n",
    "\n",
    "In the log-log scatter plot we investigate whether there is a correlation between in and out degree but find little basis for such a claim. It is however apparent that, what we saw in our list of top ten mathematicians by degree is also shown here, with some nodes having both a high number of edges going in as well as edges going out."
   ]
  },
  {
   "cell_type": "markdown",
   "metadata": {
    "collapsed": false
   },
   "source": [
    "## Communities\n",
    "We sugges that each branch of mathematics is a community on to itself, where each member of the community is a mathematician whose wikipedia page suggests that they work within that field.\n",
    "In this section we will see if that is in fact the case. As we are now considering connectedness, rather than direction of connection, we transform our graph to an undirected graph.\n",
    "\n",
    "#### Centrality\n",
    "First we look at betweennes centrality scores to determine whether, as we suspect, there are nodes that are better connected than others that act as hubs for the entire network.\n",
    "\n",
    "| Mathematician       | Centrality Score     |\n",
    "|---------------------|----------------------|\n",
    "| Bertrand Russell    | 0.11804835481107404  |\n",
    "| Ronald Fisher       | 0.10547526865756197  |\n",
    "| Milton Friedman     | 0.0651579316560905   |\n",
    "| John von Neumann    | 0.06029515476620272  |\n",
    "| John Maynard Keynes | 0.052742137383594734 |\n",
    "\n",
    "Considering our table we find that there are in fact some nodes that are better connected and they are likely to act as hubs for the entire network.\n",
    "\n",
    "#### Eigenvector Centrality\n",
    "Eigen vector centrality is a different method to calculate the centrality for the graph. We simply do this to compare with the results achieved above.\n",
    "\n",
    "| Mathematician (IN)  | Eigenvector Centrality (IN) | Mathematician (OUT)    | Eigenvector Centrality (OUT) |\n",
    "|---------------------|-----------------------------|------------------------|------------------------------|\n",
    "| Bertrand Russell    | 0.4164868307116189          | Bertrand Russell       | 0.32079269724107234          |\n",
    "| Gottlob Frege       | 0.24905868740465903         | Charles Sanders Peirce | 0.29923786993899865          |\n",
    "| Alfred Tarski       | 0.24345915341198865         | Georg Cantor           | 0.2165598331026345           |\n",
    "| Ludwig Wittgenstein | 0.2431995071317573          | Jaakko Hintikka        | 0.2097900546429442           |\n",
    "| John von Neumann    | 0.20821566137778677         | Gottlob Frege          | 0.19023617292174907          |\n",
    "\n",
    "\n",
    "#### Nodes with the highest centrality measures\n",
    " \n",
    "\n",
    "|In Degree Centrality | Out Degree Centrality | In Eigenvector Centrality | Out Eigenvector Centrality | Betweenness Centrality|\n",
    "|---------------------|-----------------------|---------------------|----------------------|-----------------------|\n",
    "| Aristotle | Bertrand Russell | Bertrand Russell | Bertrand Russell | Bertrand Russell |\n",
    "| Bertrand Russell | Charles Sanders Peirce | Gottlob Frege |Charles Sanders Peirce | Ronald Fisher |\n",
    "| Karl Pearson | Ronald Fisher | Alfred Tarski | Georg Cantor | Milton Friedman |\n",
    "| Euclid | David Hilbert | Ludwig Wittgenstein | Jaakko Hintikka | John von Neumann |\n",
    "| Alfred Tarski | Georg Cantor | John von Neumann | Gottlob Frege |John Maynard Keynes |\n",
    "\n"
   ]
  },
  {
   "cell_type": "markdown",
   "metadata": {},
   "source": [
    "### Assortivity of the graph\n",
    "To understand how the nature of the graph we want to understand how the nodes attach to one another. The assortivity shows this. We look at degree assortivity to find whether there is preferential attachment based on degree.\n",
    "\n",
    "| While Graph       | Top 20 Nodes | Bottom 20 Nodes |\n",
    "|-------------------|-----------------|-----------------|\n",
    "| -0.00168335676968 | -0.107275408608 | -0.6 |\n",
    "\n",
    "As all numbers are negative we find that there is not preferential attachment due to degree of the nodes. The whole graph is (just barely) non-assortative while the top and bottom 20 nodes are clearly disassortative."
   ]
  },
  {
   "cell_type": "markdown",
   "metadata": {
    "collapsed": false
   },
   "source": [
    "#### Branches and Communities\n",
    "We find the giant connected component of the undirected graph and find the best partition of it. By finding the partitions we find the number of communities and whether the communites are optimally partitioned. The communites are optimally partitioned if their modularity is greater than 0.41.\n",
    "\n",
    "| Louvain-Modularity (over GCC) | Modularity (over Graph) | Modularity (over GCC) |\n",
    "|------------------|-------------------------|------------|\n",
    "| 0.650868725323 | 0.556060238001 | 0.551442601486 |\n",
    "\n",
    "As we can see the communities are optimally partitioned without use of the Louvain algorithm, and had they not been the Louvain algorithm could perhaps partition it such that it is, which can be assertained based on the higher score."
   ]
  },
  {
   "cell_type": "markdown",
   "metadata": {
    "collapsed": false
   },
   "source": [
    "#### Automatic detection of the best partition and number of communities\n",
    "\n",
    "If we challenge our assumption that there are only 6 communities, or branches, and programmatically look for the best partitions we find that there are in fact 17 communities of mathematicians.\n",
    "As seen in the able below the mathematicians are spread over these partitions. One could assume that for instance the 17th partition in which only statiticians occur is a subfield of statistics, whereas the other partitions may in fact be subfields that interact with one another.\n",
    "\n",
    "| | 0 |\t1 |\t2 |\t3 |\t4 |\t5 | 6 |\t7 |\t8 |\t9 |\t10 | 11 | 12 | 13 |\t14 | 15 |\t16 |\n",
    "|-| - | - | - | - | - | - | - | - | - | - | -  | -  | -  | -  | -  | -  | - |\n",
    "|actuaries |\t0|\t1\t|0 |\t0 |\t0 |\t0 |\t1 |\t0 |\t0 | 3 |\t0 |\t3 |\t0 |\t0 |\t0 |\t0 |\t0 |\n",
    "|geometers\t|25|\t1|\t19|\t20|\t2|\t1|\t5|\t7|\t0|\t5|\t0|\t0|\t1|\t0|\t0|\t0|\t0 |\n",
    "|game_theorists|\t0|\t3|\t0|\t1|\t1|\t0|\t0|\t0|\t0|\t0|\t0|\t2|\t0|\t6|\t1|\t0|\t0 |\n",
    "|logicians|\t40|\t4|\t2|\t17|\t2|\t55|\t49|\t0|\t0|\t2|\t4|\t1|\t8|\t0|\t0|\t0|\t0 |\n",
    "|mathematical_probabilists|\t0|\t1|\t9|\t1|\t14|\t2|\t2|\t2|\t1|\t0|\t0|\t2|\t0 | 1 |\t1| 0 |\t0|\n",
    "|statisticians|\t0|\t86|\t2|\t3|\t7|\t1|\t9|\t8|\t14|\t9|\t0|\t31|\t0|\t0|\t33|\t24 |\t8 |"
   ]
  },
  {
   "cell_type": "markdown",
   "metadata": {
    "collapsed": false
   },
   "source": [
    "## Linguistic Analysis\n",
    "In this part of the project we are more concerned with how the wikipedia articles are built up linguistically.\n",
    "\n",
    "#### Basic statistics\n",
    "In all of the documents combined we find that we have 912.737 tokens before cleaning and 491.603 tokens after cleaning the files over 751 philosophers.\n",
    "\n",
    "#### Term Frequencies and TF-IDF\n",
    "\n",
    "If we for instance consider the top 5 words in each branch (after stemming and lemmatisation) we find that many of the words are shared between branches.\n",
    "\n",
    "| Branch        | Word    | Count | Word   | Count | Word     | Count | Word    | Count | Word      | Count |\n",
    "| --------------| -----   | ------| ----   | ----- | ----     | ----- | -----   | ----- | ----      | ----- |\n",
    "| actuaries     | actuari | 256   | work   | 215   | mathemat | 182   | life    | 168   | univers   | 166   |\n",
    "| game_theorists| neumann | 496   | von    | 477   | theori   | 450   | univers | 415   | game      | 396   |\n",
    "| probabilists  | pascal  | 333   | work   | 174   | mathmat  | 149   | de      | 148   | univers   | 143   | \n",
    "| logicians     | logic   | 6161  | univers| 4583  | work     | 3947  | mathemat| 3731  | philosophi| 3638  |\n",
    "| geometers     | mathemat| 2369  | work   | 2347  | univers  | 1854  | theori  | 1430  | geometri  | 1294  |\n",
    "| statisticians | statist | 5148  | univers| 3449  | work     | 2565  | mathemat| 2183  | econom    | 1768  |\n",
    "\n",
    "And now we consider after calculating the TF-IDF:\n",
    "<img src=\"data/images/top5_tfidf.png\" width='70%'>"
   ]
  },
  {
   "cell_type": "markdown",
   "metadata": {
    "collapsed": false
   },
   "source": [
    "#### Word Clouds\n",
    "Actuaries\n",
    "<img src=\"data/images/actuaries.png\" width='70%'>\n",
    "\n",
    "Game Theorists\n",
    "<img src=\"data/images/game_theorists.png\" width='70%'>\n",
    "\n",
    "Geometers\n",
    "<img src=\"data/images/geometers.png\" width='70%'>\n",
    "\n",
    "Logicians\n",
    "<img src=\"data/images/logicians.png\" width='70%'>\n",
    "\n",
    "Mathematical Probabilists\n",
    "<img src=\"data/images/probabilists.png\" width='70%'>\n",
    "\n",
    "Statisticians\n",
    "<img src=\"data/images/statisticians.png\" width='70%'>"
   ]
  },
  {
   "cell_type": "markdown",
   "metadata": {
    "collapsed": false
   },
   "source": [
    "#### Token counts by article and TF-IDF values plots\n",
    "<img src=\"data/images/tokenCountPlot.png\" width='70%'>\n",
    "We see in the plot above that the distributions of tokens for each article varies a lot.\n",
    "<img src=\"data/images/tfidfRankPlot.png\" width='70%'>\n",
    "And this is just a plot of TFIDF values."
   ]
  },
  {
   "cell_type": "markdown",
   "metadata": {},
   "source": [
    "## Classification\n",
    "And no, finally we want to see if predict which branch a mathematician belongs to based on the text on their wikipedia page.\n",
    "\n",
    "We use three different classifiers: A Support Vector Machine (Gaussian Kernel), A Multinomial Naive Bayes Classifier and a Logistic Regression Classifier. In the plot below we can see how the classifiers performed over 20 iterations.\n",
    "<img src=\"data/images/scorePlot.png\" width='70%'>\n",
    "\n",
    "As we see only Logistic Regression manages to outperform the mean of the accuracies (0.63) and the mean of the precision (0.61) consistently. While SVM barely manages to outperform the man at any point.\n",
    "\n",
    "|      | Accuracy (Min) | Accuracy (Max) | Precision (Min) | Precision (Max) |\n",
    "|------|----------------|----------------|-----------------|-----------------|\n",
    "| NB   | 0.61           | 0.76           | 0.50            | 0.73            |\n",
    "| SVM  | 0.44           | 0.64           | 0.31            | 0.64            |\n",
    "| LR   | 0.64           | 0.75           | 0.62            | 0.73            |\n",
    "\n",
    "While Logistic Regression is not the best classifier for all instances, it classifies the most consistently over the metris, overall."
   ]
  }
 ],
 "metadata": {
  "kernelspec": {
   "display_name": "Python 2",
   "language": "python",
   "name": "python2"
  },
  "language_info": {
   "codemirror_mode": {
    "name": "ipython",
    "version": 2
   },
   "file_extension": ".py",
   "mimetype": "text/x-python",
   "name": "python",
   "nbconvert_exporter": "python",
   "pygments_lexer": "ipython2",
   "version": "2.7.10"
  }
 },
 "nbformat": 4,
 "nbformat_minor": 0
}
